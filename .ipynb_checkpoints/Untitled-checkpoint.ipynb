{
 "cells": [
  {
   "cell_type": "code",
   "execution_count": 1,
   "id": "d7f5aa98-9503-43c9-8738-7757ea3987a7",
   "metadata": {},
   "outputs": [],
   "source": [
    "import filereader"
   ]
  },
  {
   "cell_type": "code",
   "execution_count": null,
   "id": "0c87ba26-e2f2-458c-8949-404dde32b02d",
   "metadata": {},
   "outputs": [],
   "source": [
    "filereader."
   ]
  }
 ],
 "metadata": {
  "kernelspec": {
   "display_name": "Python 3 (ipykernel)",
   "language": "python",
   "name": "python3"
  },
  "language_info": {
   "codemirror_mode": {
    "name": "ipython",
    "version": 3
   },
   "file_extension": ".py",
   "mimetype": "text/x-python",
   "name": "python",
   "nbconvert_exporter": "python",
   "pygments_lexer": "ipython3",
   "version": "3.12.7"
  }
 },
 "nbformat": 4,
 "nbformat_minor": 5
}
